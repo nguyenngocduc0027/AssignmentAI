{
 "cells": [
  {
   "cell_type": "code",
   "execution_count": 1,
   "id": "450b8021",
   "metadata": {},
   "outputs": [],
   "source": [
    "import numpy as np\n",
    "import matplotlib.pyplot as plt\n",
    "\n",
    "from sklearn import tree\n",
    "from sklearn.metrics import accuracy_score"
   ]
  },
  {
   "cell_type": "code",
   "execution_count": 2,
   "id": "0146dd90",
   "metadata": {},
   "outputs": [],
   "source": [
    "#Load Data\n",
    "filename = 'data/SPECTF.dat'\n",
    "data = np.loadtxt(filename, delimiter=',')      #Column 1: Label\n",
    "X = data[:, 1:]                   #shape=(267, 44)\n",
    "y = np.array([data[:, 0]]).T      #shape=(267, 1)\n",
    "n, d = X.shape "
   ]
  },
  {
   "cell_type": "code",
   "execution_count": 3,
   "id": "c4d30d24",
   "metadata": {},
   "outputs": [],
   "source": [
    "#Shuffle the data\n",
    "idx = np.arange(n)      #Shuffle array[0,1, 2,...266]\n",
    "np.random.seed(13)\n",
    "np.random.shuffle(idx)\n",
    "X = X[idx]\n",
    "y = y[idx]"
   ]
  },
  {
   "cell_type": "code",
   "execution_count": 4,
   "id": "7c711056",
   "metadata": {},
   "outputs": [],
   "source": [
    "#Split the data\n",
    "Xtrain = X[1:101, :]     #Train on first 100 instances  (shape=(100, 44))\n",
    "Xtest = X[101:, :]       #shape=(166, 44)\n",
    "ytrain = y[1:101, :]    #Test on remaining instances    shape=(100, 1)\n",
    "ytest = y[101:, :]       #shape=(166, 1)"
   ]
  },
  {
   "cell_type": "code",
   "execution_count": 5,
   "id": "3b5d42e0",
   "metadata": {},
   "outputs": [],
   "source": [
    "#Train the decision tree\n",
    "clf = tree.DecisionTreeClassifier()\n",
    "clf = clf.fit(Xtrain, ytrain)"
   ]
  },
  {
   "cell_type": "code",
   "execution_count": 6,
   "id": "fca6c6cd",
   "metadata": {},
   "outputs": [],
   "source": [
    "#Output predictions on the remaining data\n",
    "y_pred = clf.predict(Xtest)        #shape=(166,)"
   ]
  },
  {
   "cell_type": "code",
   "execution_count": 7,
   "id": "8d123ae6",
   "metadata": {},
   "outputs": [
    {
     "data": {
      "text/plain": [
       "array([1., 1., 1., 1., 1., 1., 1., 1., 1., 0., 1., 1., 0., 0., 1., 0., 1.,\n",
       "       1., 1., 1., 1., 0., 0., 1., 1., 0., 1., 1., 0., 0., 1., 1., 1., 0.,\n",
       "       0., 1., 1., 0., 1., 1., 1., 1., 1., 1., 1., 0., 1., 1., 0., 1., 0.,\n",
       "       1., 1., 1., 0., 1., 1., 1., 1., 1., 1., 1., 0., 1., 1., 1., 1., 1.,\n",
       "       1., 1., 1., 1., 0., 0., 1., 1., 1., 0., 0., 0., 0., 1., 0., 1., 0.,\n",
       "       1., 1., 0., 0., 1., 1., 0., 1., 1., 0., 0., 0., 1., 1., 1., 1., 0.,\n",
       "       1., 1., 1., 0., 0., 1., 1., 0., 1., 1., 1., 1., 0., 1., 1., 0., 0.,\n",
       "       1., 1., 1., 1., 1., 1., 1., 1., 1., 1., 1., 1., 1., 1., 1., 1., 0.,\n",
       "       1., 1., 1., 1., 1., 1., 0., 1., 0., 1., 0., 1., 1., 1., 1., 1., 1.,\n",
       "       1., 0., 0., 1., 1., 0., 1., 1., 1., 0., 1., 1., 1.])"
      ]
     },
     "execution_count": 7,
     "metadata": {},
     "output_type": "execute_result"
    }
   ],
   "source": [
    "y_pred"
   ]
  },
  {
   "cell_type": "code",
   "execution_count": 8,
   "id": "b2f787de",
   "metadata": {},
   "outputs": [],
   "source": [
    "#Compute the training accuracy of the model\n",
    "meanDecisionTreeAccuracy = accuracy_score(ytest, y_pred)"
   ]
  },
  {
   "cell_type": "code",
   "execution_count": 9,
   "id": "7fc3ddfc",
   "metadata": {},
   "outputs": [
    {
     "data": {
      "text/plain": [
       "0.7409638554216867"
      ]
     },
     "execution_count": 9,
     "metadata": {},
     "output_type": "execute_result"
    }
   ],
   "source": [
    "meanDecisionTreeAccuracy"
   ]
  },
  {
   "cell_type": "code",
   "execution_count": 10,
   "id": "288a6069",
   "metadata": {},
   "outputs": [
    {
     "name": "stdout",
     "output_type": "stream",
     "text": [
      "[[0. 0. 0. ... 0. 0. 0.]\n",
      " [0. 0. 0. ... 0. 0. 0.]\n",
      " [0. 0. 0. ... 0. 0. 0.]\n",
      " ...\n",
      " [0. 0. 0. ... 0. 0. 0.]\n",
      " [1. 1. 1. ... 1. 1. 1.]\n",
      " [0. 0. 0. ... 0. 0. 0.]]\n"
     ]
    }
   ],
   "source": [
    "print((ytest - y_pred)**2)"
   ]
  },
  {
   "cell_type": "code",
   "execution_count": 11,
   "id": "04186571",
   "metadata": {},
   "outputs": [
    {
     "data": {
      "text/plain": [
       "38.29962546816479"
      ]
     },
     "execution_count": 11,
     "metadata": {},
     "output_type": "execute_result"
    }
   ],
   "source": [
    "mean = (np.sum(np.array((ytest - y_pred)**2)))/n\n",
    "mean"
   ]
  },
  {
   "cell_type": "code",
   "execution_count": 12,
   "id": "5fb21b5f",
   "metadata": {},
   "outputs": [],
   "source": [
    "#TODO: update these statistics based on the results of your experiment\n",
    "stddevDecisionTreeAccuracy = 0\n",
    "meanDecisionStumpAccuracy = 0\n",
    "stddevDecisionStumpAccuracy = 0\n",
    "meanDT3Accuracy = 0\n",
    "stddevDT3Accuracy = 0"
   ]
  },
  {
   "cell_type": "code",
   "execution_count": 13,
   "id": "5004aea8",
   "metadata": {},
   "outputs": [],
   "source": [
    "#Make certain that the return value matches the API specification\n",
    "stats = np.zeros((3, 2))\n",
    "stats[0, 0] = meanDecisionTreeAccuracy\n",
    "stats[0, 1] = stddevDecisionTreeAccuracy\n",
    "stats[1, 0] = meanDecisionStumpAccuracy\n",
    "stats[1, 1] = stddevDecisionStumpAccuracy\n",
    "stats[2, 0] = meanDT3Accuracy\n",
    "stats[2, 1] = stddevDT3Accuracy"
   ]
  },
  {
   "cell_type": "code",
   "execution_count": 14,
   "id": "20c66cd5",
   "metadata": {},
   "outputs": [
    {
     "name": "stdout",
     "output_type": "stream",
     "text": [
      "Decision Tree Accuracy =  0.7409638554216867 ( 0.0 )\n",
      "Decision Stump Accuracy =  0.0 ( 0.0 )\n",
      "3-level Decision Tree =  0.0 ( 0.0 )\n"
     ]
    }
   ],
   "source": [
    "print(\"Decision Tree Accuracy = \", stats[0,0], \"(\", stats[0, 1], \")\")\n",
    "print(\"Decision Stump Accuracy = \", stats[1, 0], \"(\", stats[1, 1], \")\")\n",
    "print(\"3-level Decision Tree = \", stats[2, 0], \"(\", stats[2, 1], \")\")"
   ]
  }
 ],
 "metadata": {
  "kernelspec": {
   "display_name": "Python 3 (ipykernel)",
   "language": "python",
   "name": "python3"
  },
  "language_info": {
   "codemirror_mode": {
    "name": "ipython",
    "version": 3
   },
   "file_extension": ".py",
   "mimetype": "text/x-python",
   "name": "python",
   "nbconvert_exporter": "python",
   "pygments_lexer": "ipython3",
   "version": "3.8.10"
  }
 },
 "nbformat": 4,
 "nbformat_minor": 5
}
